{
  "nbformat": 4,
  "nbformat_minor": 0,
  "metadata": {
    "colab": {
      "provenance": [],
      "machine_shape": "hm",
      "gpuType": "T4"
    },
    "kernelspec": {
      "name": "python3",
      "display_name": "Python 3"
    },
    "language_info": {
      "name": "python"
    },
    "accelerator": "GPU"
  },
  "cells": [
    {
      "cell_type": "code",
      "source": [
        "from google.colab import drive\n",
        "drive.mount('/content/drive')"
      ],
      "metadata": {
        "colab": {
          "base_uri": "https://localhost:8080/"
        },
        "id": "yrWxS7fQA9tw",
        "outputId": "6f668597-82db-4d83-d3e4-1f27c00aef26"
      },
      "execution_count": 1,
      "outputs": [
        {
          "output_type": "stream",
          "name": "stdout",
          "text": [
            "Mounted at /content/drive\n"
          ]
        }
      ]
    },
    {
      "cell_type": "code",
      "execution_count": 6,
      "metadata": {
        "colab": {
          "base_uri": "https://localhost:8080/"
        },
        "id": "C1laTkajYoDq",
        "outputId": "8c2663ca-af02-4669-bc9c-970daec6e995"
      },
      "outputs": [
        {
          "output_type": "stream",
          "name": "stdout",
          "text": [
            "<class 'dict'>\n",
            "dict_keys(['mitotic figure', 'not mitotic figure'])\n"
          ]
        }
      ],
      "source": [
        "import pickle\n",
        "import os\n",
        "\n",
        "file_path = '/content/drive/My Drive/MIDOG_Challenge_2022_png/midog_patches_reinhard_full.pkl'\n",
        "\n",
        "# Load the pickle file\n",
        "with open(file_path, 'rb') as f:\n",
        "    data = pickle.load(f)\n",
        "\n",
        "print(type(data))\n",
        "print(data.keys())\n"
      ]
    },
    {
      "cell_type": "code",
      "source": [
        "import json\n",
        "import os\n",
        "import numpy as np\n",
        "import matplotlib.pyplot as plt\n",
        "import matplotlib.patches as patches\n",
        "from PIL import Image\n",
        "import pandas as pd\n",
        "from collections import defaultdict\n",
        "\n",
        "base_dir = '/content/drive/My Drive/MIDOG_Challenge_2022_png'"
      ],
      "metadata": {
        "id": "9D-z0KDWZ9nj"
      },
      "execution_count": 2,
      "outputs": []
    },
    {
      "cell_type": "code",
      "source": [
        "def create_annotation_to_cancer_mapping(annotations_json):\n",
        "    \"\"\"\n",
        "    Create a mapping from annotation IDs to cancer types based on image IDs.\n",
        "\n",
        "    Args:\n",
        "        annotations_json: Path to the JSON annotation file\n",
        "\n",
        "    Returns:\n",
        "        Dictionary mapping annotation ID to (cancer_type, species) tuple\n",
        "    \"\"\"\n",
        "    with open(annotations_json, 'r') as f:\n",
        "        coco_data = json.load(f)\n",
        "\n",
        "    # Define cancer type ranges based on image IDs\n",
        "    cancer_mappings = [\n",
        "        ((1, 150), \"breast_cancer\", \"human\"),\n",
        "        ((151, 194), \"lung_carcinoma\", \"canine\"),\n",
        "        ((195, 249), \"lymphoma\", \"canine\"),\n",
        "        ((250, 299), \"mast_cell_tumor\", \"canine\"),\n",
        "        ((300, 354), \"neuroendocrine_tumor\", \"human\"),\n",
        "        ((355, 405), \"melanoma\", \"human\")\n",
        "    ]\n",
        "\n",
        "    # Create annotation ID to cancer type mapping\n",
        "    annotation_to_cancer = {}\n",
        "    for ann in coco_data['annotations']:\n",
        "        image_id = ann['image_id']\n",
        "        # Find matching cancer type\n",
        "        for (start, end), cancer, species in cancer_mappings:\n",
        "            if start <= image_id <= end:\n",
        "                annotation_to_cancer[ann['id']] = (cancer, species, image_id)\n",
        "                break\n",
        "\n",
        "    return annotation_to_cancer\n",
        "\n",
        "# Create the mapping\n",
        "annotations_json = os.path.join(base_dir, 'MIDOG2022_training_png.json')\n",
        "annotation_to_cancer = create_annotation_to_cancer_mapping(annotations_json)\n",
        "\n",
        "# File path\n",
        "file_path = '/content/drive/My Drive/MIDOG_Challenge_2022_png/midog_patches_reinhard_full.pkl'\n",
        "\n",
        "# Load the pickle file\n",
        "with open(file_path, 'rb') as f:\n",
        "    all_patches = pickle.load(f)\n",
        "\n",
        "# Add cancer type information\n",
        "for category in all_patches:\n",
        "    for patch in all_patches[category]:\n",
        "        annotation_id = patch['annotation_id']\n",
        "        if annotation_id in annotation_to_cancer:\n",
        "            cancer_type, species, image_id = annotation_to_cancer[annotation_id]\n",
        "            patch['cancer_type'] = cancer_type\n",
        "            patch['species'] = species\n",
        "            patch['image_id'] = image_id\n",
        "        else:\n",
        "            patch['cancer_type'] = 'unknown'\n",
        "            patch['species'] = 'unknown'\n",
        "\n",
        "# Save\n",
        "with open('midog_patches_with_cancer_info.pkl', 'wb') as f:\n",
        "    pickle.dump(all_patches, f)\n",
        "\n",
        "\n",
        "# Save to Google Drive\n",
        "output_path = '/content/drive/My Drive/MIDOG_Challenge_2022_png/midog_patches_with_cancer_info.pkl'\n",
        "with open(output_path, 'wb') as f:\n",
        "    pickle.dump(all_patches, f)\n"
      ],
      "metadata": {
        "id": "TItkawmaZyzp"
      },
      "execution_count": 7,
      "outputs": []
    },
    {
      "cell_type": "markdown",
      "source": [
        "\n",
        "---\n",
        "\n",
        "### **INTENSITY-BASED FEATURES**\n",
        "* Mean intensity – Average pixel intensity in the patch  \n",
        "* Standard deviation of intensity – Variation/contrast in brightness  \n",
        "* Entropy – Randomness of intensity values; high for complex textures  \n",
        "* Intensity skewness – Symmetry of brightness distribution  \n",
        "* Max–Min intensity – Peak contrast  \n",
        "\n",
        "---\n",
        "\n",
        "### **STAIN/COLOR-BASED FEATURES**\n",
        "* Mean hematoxylin intensity – Nucleus content (lower for mitosis)  \n",
        "* Mean eosin intensity – Cytoplasm content  \n",
        "* Hematoxylin:Eosin ratio – Distinguishes nuclear-rich areas  \n",
        "\n",
        "---\n",
        "\n",
        "### **TEXTURE-BASED FEATURES**\n",
        "* GLCM contrast – Texture strength  \n",
        "* GLCM correlation – Pixel dependency patterns  \n",
        "* GLCM energy – Uniformity of texture  \n",
        "* GLCM homogeneity – Smoothness or uniform spread  \n",
        "* LBP histogram uniformity – Pattern of pixel neighborhoods  \n",
        "\n",
        "---\n",
        "\n",
        "### **MORPHOLOGICAL/SHAPE FEATURES**\n",
        "* Area of the segmented nucleus – Size of mitotic region  \n",
        "* Perimeter – Boundary length  \n",
        "* Circularity – 4π (Area / Perimeter)^2  \n",
        "* Eccentricity – Oval-ness; 0 = circle, 1 = line  \n",
        "* Solidity – Ratio of area to convex hull (compactness)  \n",
        "\n",
        "---\n",
        "\n",
        "### **EDGE & STRUCTURAL FEATURES**\n",
        "* Canny edge pixel count – Edges = strong signal boundaries  \n",
        "* Sobel gradient magnitude mean – Overall edge strength in patch  \n",
        "\n",
        "---\n"
      ],
      "metadata": {
        "id": "UJcrLooss7mH"
      }
    },
    {
      "cell_type": "code",
      "source": [
        "!pip install -U scikit-image"
      ],
      "metadata": {
        "colab": {
          "base_uri": "https://localhost:8080/"
        },
        "id": "S2keYjjcuvx4",
        "outputId": "343cb5f1-6446-4bc3-938c-177a5cf9e813"
      },
      "execution_count": null,
      "outputs": [
        {
          "output_type": "stream",
          "name": "stdout",
          "text": [
            "Requirement already satisfied: scikit-image in /usr/local/lib/python3.11/dist-packages (0.25.2)\n",
            "Requirement already satisfied: numpy>=1.24 in /usr/local/lib/python3.11/dist-packages (from scikit-image) (2.0.2)\n",
            "Requirement already satisfied: scipy>=1.11.4 in /usr/local/lib/python3.11/dist-packages (from scikit-image) (1.14.1)\n",
            "Requirement already satisfied: networkx>=3.0 in /usr/local/lib/python3.11/dist-packages (from scikit-image) (3.4.2)\n",
            "Requirement already satisfied: pillow>=10.1 in /usr/local/lib/python3.11/dist-packages (from scikit-image) (11.1.0)\n",
            "Requirement already satisfied: imageio!=2.35.0,>=2.33 in /usr/local/lib/python3.11/dist-packages (from scikit-image) (2.37.0)\n",
            "Requirement already satisfied: tifffile>=2022.8.12 in /usr/local/lib/python3.11/dist-packages (from scikit-image) (2025.3.30)\n",
            "Requirement already satisfied: packaging>=21 in /usr/local/lib/python3.11/dist-packages (from scikit-image) (24.2)\n",
            "Requirement already satisfied: lazy-loader>=0.4 in /usr/local/lib/python3.11/dist-packages (from scikit-image) (0.4)\n"
          ]
        }
      ]
    },
    {
      "cell_type": "code",
      "source": [
        "import numpy as np\n",
        "import cv2\n",
        "from skimage.color import rgb2hed, rgb2gray\n",
        "from skimage.feature import local_binary_pattern, graycomatrix, graycoprops\n",
        "from skimage.filters import sobel\n",
        "from skimage.measure import label, regionprops\n",
        "from skimage.util import img_as_ubyte\n",
        "from scipy.stats import skew, entropy\n",
        "\n",
        "def extract_features_from_patch(patch):\n",
        "    features = []\n",
        "\n",
        "    # Convert to grayscale and uint8\n",
        "    gray = rgb2gray(patch)\n",
        "    gray_u8 = img_as_ubyte(gray)\n",
        "\n",
        "    # --- INTENSITY FEATURES ---\n",
        "    features.append(np.mean(gray))                            # 1. Mean intensity\n",
        "    features.append(np.std(gray))                             # 2. Std intensity\n",
        "    features.append(entropy(np.histogram(gray_u8, bins=256)[0] + 1e-6))  # 3. Entropy\n",
        "    features.append(skew(gray.flatten()))                     # 4. Skewness\n",
        "    features.append(np.max(gray) - np.min(gray))              # 5. Max - Min\n",
        "\n",
        "    # --- STAIN FEATURES (after H&E separation) ---\n",
        "    hed = rgb2hed(patch)\n",
        "    h = hed[:, :, 0]\n",
        "    e = hed[:, :, 1]\n",
        "    h_mean = np.mean(h)\n",
        "    e_mean = np.mean(e)\n",
        "    features.append(h_mean)                                   # 6. Mean hematoxylin\n",
        "    features.append(e_mean)                                   # 7. Mean eosin\n",
        "    features.append(h_mean / (e_mean + 1e-8))                 # 8. H:E ratio\n",
        "\n",
        "    # --- TEXTURE FEATURES (GLCM + LBP) ---\n",
        "\n",
        "    glcm = graycomatrix(gray_u8, distances=[1], angles=[0], levels=256, symmetric=True, normed=True)\n",
        "    features.append(graycoprops(glcm, 'contrast')[0, 0])\n",
        "    features.append(graycoprops(glcm, 'correlation')[0, 0])\n",
        "    features.append(graycoprops(glcm, 'energy')[0, 0])\n",
        "    features.append(graycoprops(glcm, 'homogeneity')[0, 0])\n",
        "\n",
        "\n",
        "    lbp = local_binary_pattern(gray_u8, P=8, R=1, method='uniform')\n",
        "    lbp_hist, _ = np.histogram(lbp.ravel(), bins=np.arange(0, 11), density=True)\n",
        "    lbp_uniformity = -np.sum(lbp_hist * np.log(lbp_hist + 1e-8))  # 13. LBP histogram uniformity\n",
        "    features.append(lbp_uniformity)\n",
        "\n",
        "    # --- MORPHOLOGICAL FEATURES ---\n",
        "    h_clipped = np.clip(h, -1, 1)\n",
        "    _, binary = cv2.threshold(img_as_ubyte(h_clipped), 0, 255, cv2.THRESH_BINARY + cv2.THRESH_OTSU)\n",
        "    labeled = label(binary)\n",
        "    props = regionprops(labeled)\n",
        "\n",
        "    if props:\n",
        "        obj = props[0]\n",
        "        area = obj.area\n",
        "        perimeter = obj.perimeter\n",
        "        features.append(area)                                 # 14. Area\n",
        "        features.append(perimeter)                            # 15. Perimeter\n",
        "        circularity = 4 * np.pi * area / (perimeter**2) if perimeter > 0 else 0\n",
        "        features.append(circularity)                          # 16. Circularity\n",
        "        features.append(obj.eccentricity)                     # 17. Eccentricity\n",
        "        features.append(obj.solidity)                         # 18. Solidity\n",
        "    else:\n",
        "        features.extend([0, 0, 0, 0, 0])\n",
        "\n",
        "    # --- EDGE FEATURES ---\n",
        "    canny = cv2.Canny(gray_u8, 100, 200)\n",
        "    features.append(np.sum(canny > 0))                        # 19. Edge pixel count (Canny)\n",
        "    sob = sobel(gray)\n",
        "    features.append(np.mean(sob))                             # 20. Sobel gradient mean\n",
        "\n",
        "    return features\n"
      ],
      "metadata": {
        "id": "yhzwH5Rms912"
      },
      "execution_count": 8,
      "outputs": []
    },
    {
      "cell_type": "markdown",
      "source": [
        "#Extract Features"
      ],
      "metadata": {
        "id": "fSwjm6keiGY0"
      }
    },
    {
      "cell_type": "code",
      "source": [
        "import pickle\n",
        "import pandas as pd\n",
        "from tqdm import tqdm\n",
        "from skimage.measure import label\n",
        "\n",
        "\n",
        "# Load patch data\n",
        "with open('/content/drive/My Drive/MIDOG_Challenge_2022_png/midog_patches_with_cancer_info.pkl', 'rb') as f:\n",
        "    all_patches = pickle.load(f)\n",
        "\n",
        "# Lists to store everything\n",
        "features, labels, metas = [], [], []\n",
        "\n",
        "print(\"Extracting features...\")\n",
        "for category, patches in all_patches.items():\n",
        "    target_label = 1 if category == \"mitotic figure\" else 0\n",
        "    for patch in tqdm(patches):\n",
        "        feat = extract_features_from_patch(patch['patch'])\n",
        "        features.append(feat)\n",
        "        labels.append(target_label)\n",
        "        metas.append({\n",
        "            'annotation_id': patch['annotation_id'],\n",
        "            'image_id': patch['image_id'],\n",
        "            'cancer_type': patch['cancer_type'],\n",
        "            'species': patch['species']\n",
        "        })\n",
        "\n",
        "\n",
        "# Build DataFrame\n",
        "X = pd.DataFrame(features, columns=[f'feat_{i}' for i in range(len(features[0]))])\n",
        "y = pd.Series(labels, name='label')\n",
        "meta = pd.DataFrame(metas)\n",
        "\n",
        "# Final dataset\n",
        "full_dataset = pd.concat([X, y, meta], axis=1)\n"
      ],
      "metadata": {
        "colab": {
          "base_uri": "https://localhost:8080/"
        },
        "id": "Yq-2G54HvWb2",
        "outputId": "7655c97f-fe7b-4944-953b-872c8bbc14df"
      },
      "execution_count": 11,
      "outputs": [
        {
          "output_type": "stream",
          "name": "stdout",
          "text": [
            "Extracting features...\n"
          ]
        },
        {
          "output_type": "stream",
          "name": "stderr",
          "text": [
            "100%|██████████| 9501/9501 [02:00<00:00, 79.03it/s]\n",
            "100%|██████████| 11051/11051 [02:14<00:00, 82.19it/s]\n"
          ]
        }
      ]
    },
    {
      "cell_type": "markdown",
      "source": [
        "#Save Features, Labels, Metadata to CSV"
      ],
      "metadata": {
        "id": "Xl0OESMv3nGG"
      }
    },
    {
      "cell_type": "code",
      "source": [
        "import pandas as pd\n",
        "\n",
        "# Create DataFrames\n",
        "X = pd.DataFrame(features, columns=[f'feat_{i}' for i in range(len(features[0]))])\n",
        "y = pd.Series(labels, name='label')\n",
        "meta = pd.DataFrame(metas)\n",
        "\n",
        "# Combine all into one dataset\n",
        "full_dataset = pd.concat([X, y, meta], axis=1)\n",
        "\n",
        "# Save to Google Drive\n",
        "output_path = '/content/drive/My Drive/MIDOG_Challenge_2022_png/midog_features_full.csv'\n",
        "full_dataset.to_csv(output_path, index=False)\n",
        "\n",
        "print(\"Saved to:\", output_path)\n"
      ],
      "metadata": {
        "colab": {
          "base_uri": "https://localhost:8080/"
        },
        "id": "fcMwYZMp3pLI",
        "outputId": "bd09fe62-d409-4fd3-f2b0-d617cd828438"
      },
      "execution_count": 12,
      "outputs": [
        {
          "output_type": "stream",
          "name": "stdout",
          "text": [
            "Saved to: /content/drive/My Drive/MIDOG_Challenge_2022_png/midog_features_full.csv\n"
          ]
        }
      ]
    },
    {
      "cell_type": "markdown",
      "source": [
        "#Load and split breast vs multi-cancer data"
      ],
      "metadata": {
        "id": "GT9vP0_d4tpf"
      }
    },
    {
      "cell_type": "code",
      "source": [
        "import pandas as pd\n",
        "\n",
        "# Load the full dataset\n",
        "csv_path = '/content/drive/My Drive/MIDOG_Challenge_2022_png/midog_features_full.csv'\n",
        "df = pd.read_csv(csv_path)\n",
        "\n",
        "# Split into breast and multi\n",
        "breast_df = df[df['cancer_type'] == 'breast_cancer']\n",
        "multi_df = df[df['cancer_type'] != 'breast_cancer']\n",
        "\n",
        "# Check shapes\n",
        "print(\"Breast samples:\", breast_df.shape)\n",
        "print(\"Multi-cancer samples:\", multi_df.shape)\n"
      ],
      "metadata": {
        "colab": {
          "base_uri": "https://localhost:8080/"
        },
        "id": "xOYC_YrI4uqS",
        "outputId": "6094931e-7c2b-4cfa-f701-81a10691ce92"
      },
      "execution_count": 3,
      "outputs": [
        {
          "output_type": "stream",
          "name": "stdout",
          "text": [
            "Breast samples: (4435, 25)\n",
            "Multi-cancer samples: (16117, 25)\n"
          ]
        }
      ]
    },
    {
      "cell_type": "markdown",
      "source": [
        "# Breast Train → Breast Test\n"
      ],
      "metadata": {
        "id": "y_kjjQrs5EPW"
      }
    },
    {
      "cell_type": "code",
      "source": [
        "from sklearn.model_selection import train_test_split\n",
        "\n",
        "# Features and labels\n",
        "X = breast_df.drop(columns=['label', 'annotation_id', 'image_id', 'cancer_type', 'species'])\n",
        "y = breast_df['label']\n",
        "\n",
        "# Step 1: Split off the test set (15%)\n",
        "X_train, X_test, y_train, y_test = train_test_split(\n",
        "    X, y, test_size=0.15, stratify=y, random_state=42\n",
        ")\n",
        "\n",
        "# Check sizes\n",
        "print(f\"Train size: {X_train.shape}\")\n",
        "print(f\"Test size: {X_test.shape}\")"
      ],
      "metadata": {
        "colab": {
          "base_uri": "https://localhost:8080/"
        },
        "id": "KQXzzSRb5H3v",
        "outputId": "a0a48065-1364-4d14-925b-ef159f5134f4"
      },
      "execution_count": 6,
      "outputs": [
        {
          "output_type": "stream",
          "name": "stdout",
          "text": [
            "Train size: (3769, 20)\n",
            "Test size: (666, 20)\n"
          ]
        }
      ]
    },
    {
      "cell_type": "code",
      "source": [
        "# Create stratification key\n",
        "strat_key_train = y_train  # since breast is one domain, only label\n"
      ],
      "metadata": {
        "id": "pWDbQyr9GFUA"
      },
      "execution_count": 7,
      "outputs": []
    },
    {
      "cell_type": "markdown",
      "source": [
        "## Random Forest"
      ],
      "metadata": {
        "id": "D5ohxDHm6DPm"
      }
    },
    {
      "cell_type": "code",
      "source": [
        "from sklearn.ensemble import RandomForestClassifier\n",
        "from sklearn.model_selection import StratifiedKFold\n",
        "from sklearn.preprocessing import StandardScaler\n",
        "from sklearn.metrics import f1_score, classification_report, confusion_matrix\n",
        "import numpy as np\n",
        "\n",
        "param_grid = {\n",
        "    'n_estimators': [100, 200],\n",
        "    'max_depth': [None, 10, 20],\n",
        "    'min_samples_split': [2, 5]\n",
        "}\n",
        "\n",
        "skf = StratifiedKFold(n_splits=5, shuffle=True, random_state=42)\n",
        "\n",
        "best_f1 = 0\n",
        "best_model = None\n",
        "best_params = None\n",
        "\n",
        "for n in param_grid['n_estimators']:\n",
        "    for d in param_grid['max_depth']:\n",
        "        for s in param_grid['min_samples_split']:\n",
        "            fold_scores = []\n",
        "            for train_idx, val_idx in skf.split(X_train, strat_key_train):\n",
        "                X_tr_raw, X_val_raw = X_train.iloc[train_idx], X_train.iloc[val_idx]\n",
        "                y_tr, y_val = y_train.iloc[train_idx], y_train.iloc[val_idx]\n",
        "\n",
        "                scaler = StandardScaler()\n",
        "                X_tr = scaler.fit_transform(X_tr_raw)\n",
        "                X_val = scaler.transform(X_val_raw)\n",
        "\n",
        "                model = RandomForestClassifier(\n",
        "                    n_estimators=n,\n",
        "                    max_depth=d,\n",
        "                    min_samples_split=s,\n",
        "                    random_state=42\n",
        "                )\n",
        "                model.fit(X_tr, y_tr)\n",
        "                y_val_pred = model.predict(X_val)\n",
        "                f1 = f1_score(y_val, y_val_pred)\n",
        "                fold_scores.append(f1)\n",
        "\n",
        "            avg_f1 = np.mean(fold_scores)\n",
        "            print(f\"Random Forest: n={n}, depth={d}, split={s} → Avg F1 = {avg_f1:.4f}\")\n",
        "\n",
        "            if avg_f1 > best_f1:\n",
        "                best_f1 = avg_f1\n",
        "                best_model = model\n",
        "                best_params = (n, d, s)\n",
        "\n",
        "print(\"\\nBest RF Params:\", best_params)\n",
        "print(f\"Best CV F1: {best_f1:.4f}\")\n",
        "\n",
        "# Final test evaluation\n",
        "scaler = StandardScaler()\n",
        "X_train_scaled = scaler.fit_transform(X_train)\n",
        "X_test_scaled = scaler.transform(X_test)\n",
        "\n",
        "y_test_pred = best_model.predict(X_test_scaled)\n",
        "print(\"Random Forest Test Classification Report:\")\n",
        "print(classification_report(y_test, y_test_pred))\n",
        "print(\"Confusion Matrix:\")\n",
        "print(confusion_matrix(y_test, y_test_pred))\n"
      ],
      "metadata": {
        "colab": {
          "base_uri": "https://localhost:8080/"
        },
        "id": "2myp-rYx-pyS",
        "outputId": "01b4b451-7ad5-4f19-9cfd-64a79038d709"
      },
      "execution_count": 8,
      "outputs": [
        {
          "output_type": "stream",
          "name": "stdout",
          "text": [
            "Random Forest: n=100, depth=None, split=2 → Avg F1 = 0.3717\n",
            "Random Forest: n=100, depth=None, split=5 → Avg F1 = 0.3697\n",
            "Random Forest: n=100, depth=10, split=2 → Avg F1 = 0.3313\n",
            "Random Forest: n=100, depth=10, split=5 → Avg F1 = 0.3460\n",
            "Random Forest: n=100, depth=20, split=2 → Avg F1 = 0.3747\n",
            "Random Forest: n=100, depth=20, split=5 → Avg F1 = 0.3782\n",
            "Random Forest: n=200, depth=None, split=2 → Avg F1 = 0.3803\n",
            "Random Forest: n=200, depth=None, split=5 → Avg F1 = 0.3843\n",
            "Random Forest: n=200, depth=10, split=2 → Avg F1 = 0.3387\n",
            "Random Forest: n=200, depth=10, split=5 → Avg F1 = 0.3360\n",
            "Random Forest: n=200, depth=20, split=2 → Avg F1 = 0.3781\n",
            "Random Forest: n=200, depth=20, split=5 → Avg F1 = 0.3941\n",
            "\n",
            "Best RF Params: (200, 20, 5)\n",
            "Best CV F1: 0.3941\n",
            "Random Forest Test Classification Report:\n",
            "              precision    recall  f1-score   support\n",
            "\n",
            "           0       0.67      0.86      0.75       408\n",
            "           1       0.59      0.33      0.42       258\n",
            "\n",
            "    accuracy                           0.65       666\n",
            "   macro avg       0.63      0.59      0.58       666\n",
            "weighted avg       0.64      0.65      0.62       666\n",
            "\n",
            "Confusion Matrix:\n",
            "[[349  59]\n",
            " [174  84]]\n"
          ]
        }
      ]
    },
    {
      "cell_type": "markdown",
      "source": [
        "# Naive Bayes"
      ],
      "metadata": {
        "id": "Wqtcak4AXHkF"
      }
    },
    {
      "cell_type": "code",
      "source": [
        "from sklearn.naive_bayes import GaussianNB\n",
        "\n",
        "skf = StratifiedKFold(n_splits=5, shuffle=True, random_state=42)\n",
        "fold_scores = []\n",
        "for train_idx, val_idx in skf.split(X_train, strat_key_train):\n",
        "    X_tr_raw, X_val_raw = X_train.iloc[train_idx], X_train.iloc[val_idx]\n",
        "    y_tr, y_val = y_train.iloc[train_idx], y_train.iloc[val_idx]\n",
        "\n",
        "    scaler = StandardScaler()\n",
        "    X_tr = scaler.fit_transform(X_tr_raw)\n",
        "    X_val = scaler.transform(X_val_raw)\n",
        "\n",
        "    model = GaussianNB()\n",
        "    model.fit(X_tr, y_tr)\n",
        "    y_val_pred = model.predict(X_val)\n",
        "    f1 = f1_score(y_val, y_val_pred)\n",
        "    fold_scores.append(f1)\n",
        "\n",
        "avg_f1 = np.mean(fold_scores)\n",
        "print(f\"\\nNaïve Bayes CV Avg F1: {avg_f1:.4f}\")\n",
        "\n",
        "# Final test eval\n",
        "scaler = StandardScaler()\n",
        "X_train_scaled = scaler.fit_transform(X_train)\n",
        "X_test_scaled = scaler.transform(X_test)\n",
        "\n",
        "model = GaussianNB()\n",
        "model.fit(X_train_scaled, y_train)\n",
        "y_test_pred = model.predict(X_test_scaled)\n",
        "\n",
        "print(\"Naïve Bayes Test Classification Report:\")\n",
        "print(classification_report(y_test, y_test_pred))\n",
        "print(\"Confusion Matrix:\")\n",
        "print(confusion_matrix(y_test, y_test_pred))\n"
      ],
      "metadata": {
        "colab": {
          "base_uri": "https://localhost:8080/"
        },
        "id": "p_MboCjlXJyf",
        "outputId": "2058650c-5c6f-4836-ae37-46ff5d49ad73"
      },
      "execution_count": 23,
      "outputs": [
        {
          "output_type": "stream",
          "name": "stdout",
          "text": [
            "\n",
            "Naïve Bayes CV Avg F1: 0.5059\n",
            "Naïve Bayes Test Classification Report:\n",
            "              precision    recall  f1-score   support\n",
            "\n",
            "           0       0.69      0.50      0.58       408\n",
            "           1       0.45      0.66      0.53       258\n",
            "\n",
            "    accuracy                           0.56       666\n",
            "   macro avg       0.57      0.58      0.56       666\n",
            "weighted avg       0.60      0.56      0.56       666\n",
            "\n",
            "Confusion Matrix:\n",
            "[[202 206]\n",
            " [ 89 169]]\n"
          ]
        }
      ]
    },
    {
      "cell_type": "markdown",
      "source": [
        "# SVM"
      ],
      "metadata": {
        "id": "RYk1g6Z5cuAz"
      }
    },
    {
      "cell_type": "code",
      "source": [
        "from sklearn.svm import SVC\n",
        "\n",
        "param_grid = {\n",
        "    'C': [1, 10],\n",
        "    'gamma': ['scale', 0.01, 0.1]\n",
        "}\n",
        "\n",
        "skf = StratifiedKFold(n_splits=5, shuffle=True, random_state=42)\n",
        "best_f1 = 0\n",
        "best_model = None\n",
        "best_params = None\n",
        "\n",
        "for C in param_grid['C']:\n",
        "    for gamma in param_grid['gamma']:\n",
        "        fold_scores = []\n",
        "        for train_idx, val_idx in skf.split(X_train, strat_key_train):\n",
        "            X_tr_raw, X_val_raw = X_train.iloc[train_idx], X_train.iloc[val_idx]\n",
        "            y_tr, y_val = y_train.iloc[train_idx], y_train.iloc[val_idx]\n",
        "\n",
        "            scaler = StandardScaler()\n",
        "            X_tr = scaler.fit_transform(X_tr_raw)\n",
        "            X_val = scaler.transform(X_val_raw)\n",
        "\n",
        "            model = SVC(C=C, kernel='rbf', gamma=gamma, random_state=42)\n",
        "            model.fit(X_tr, y_tr)\n",
        "            y_val_pred = model.predict(X_val)\n",
        "            f1 = f1_score(y_val, y_val_pred)\n",
        "            fold_scores.append(f1)\n",
        "\n",
        "        avg_f1 = np.mean(fold_scores)\n",
        "        print(f\"SVM: C={C}, gamma={gamma} → Avg F1 = {avg_f1:.4f}\")\n",
        "\n",
        "        if avg_f1 > best_f1:\n",
        "            best_f1 = avg_f1\n",
        "            best_model = model\n",
        "            best_params = (C, gamma)\n",
        "\n",
        "print(\"\\nBest SVM Params:\", best_params)\n",
        "print(f\"Best CV F1: {best_f1:.4f}\")\n",
        "\n",
        "scaler = StandardScaler()\n",
        "X_train_scaled = scaler.fit_transform(X_train)\n",
        "X_test_scaled = scaler.transform(X_test)\n",
        "\n",
        "y_test_pred = best_model.predict(X_test_scaled)\n",
        "print(\"SVM Test Classification Report:\")\n",
        "print(classification_report(y_test, y_test_pred))\n",
        "print(\"Confusion Matrix:\")\n",
        "print(confusion_matrix(y_test, y_test_pred))\n"
      ],
      "metadata": {
        "colab": {
          "base_uri": "https://localhost:8080/"
        },
        "id": "TnGV9Qatczpc",
        "outputId": "1f63607f-f94b-41bc-a252-16db98cb78e0"
      },
      "execution_count": 24,
      "outputs": [
        {
          "output_type": "stream",
          "name": "stdout",
          "text": [
            "SVM: C=1, gamma=scale → Avg F1 = 0.2826\n",
            "SVM: C=1, gamma=0.01 → Avg F1 = 0.0172\n",
            "SVM: C=1, gamma=0.1 → Avg F1 = 0.3604\n",
            "SVM: C=10, gamma=scale → Avg F1 = 0.4343\n",
            "SVM: C=10, gamma=0.01 → Avg F1 = 0.2616\n",
            "SVM: C=10, gamma=0.1 → Avg F1 = 0.4467\n",
            "\n",
            "Best SVM Params: (10, 0.1)\n",
            "Best CV F1: 0.4467\n",
            "SVM Test Classification Report:\n",
            "              precision    recall  f1-score   support\n",
            "\n",
            "           0       0.68      0.72      0.70       408\n",
            "           1       0.51      0.46      0.49       258\n",
            "\n",
            "    accuracy                           0.62       666\n",
            "   macro avg       0.60      0.59      0.59       666\n",
            "weighted avg       0.62      0.62      0.62       666\n",
            "\n",
            "Confusion Matrix:\n",
            "[[295 113]\n",
            " [139 119]]\n"
          ]
        }
      ]
    },
    {
      "cell_type": "markdown",
      "source": [
        "# Feature Importance (RF)"
      ],
      "metadata": {
        "id": "3NDg6oc1XDIz"
      }
    },
    {
      "cell_type": "code",
      "source": [
        "#Feature Importance Random Forest\n",
        "importances = best_model.feature_importances_\n",
        "feature_names = X_train.columns\n",
        "\n",
        "# Plot top 10 features\n",
        "top_indices = np.argsort(importances)[-10:]\n",
        "plt.figure(figsize=(8, 5))\n",
        "plt.barh(range(10), importances[top_indices], align='center')\n",
        "plt.yticks(range(10), [feature_names[i] for i in top_indices])\n",
        "plt.title(\"Top 10 Feature Importances\")\n",
        "plt.xlabel(\"Importance Score\")\n",
        "plt.tight_layout()\n",
        "plt.show()\n",
        "\n",
        "top_features = sorted(zip(importances, feature_names), reverse=True)[:10]\n",
        "for importance, name in top_features:\n",
        "    print(f\"{name}: {importance:.6f}\")\n"
      ],
      "metadata": {
        "id": "gh9p5uKs6afg",
        "colab": {
          "base_uri": "https://localhost:8080/",
          "height": 677
        },
        "outputId": "96a7f615-3ea6-40d3-eefe-82f480e76d5b"
      },
      "execution_count": 9,
      "outputs": [
        {
          "output_type": "display_data",
          "data": {
            "text/plain": [
              "<Figure size 800x500 with 1 Axes>"
            ],
            "image/png": "[encoded data removed]"
          },
          "metadata": {}
        },
        {
          "output_type": "stream",
          "name": "stdout",
          "text": [
            "feat_12: 0.067059\n",
            "feat_5: 0.063092\n",
            "feat_4: 0.060647\n",
            "feat_3: 0.057232\n",
            "feat_6: 0.055037\n",
            "feat_2: 0.054070\n",
            "feat_7: 0.054045\n",
            "feat_1: 0.053623\n",
            "feat_0: 0.053429\n",
            "feat_9: 0.050445\n"
          ]
        }
      ]
    },
    {
      "cell_type": "markdown",
      "source": [
        "#Breast train → Multi test"
      ],
      "metadata": {
        "id": "8zhbIT_JNXa6"
      }
    },
    {
      "cell_type": "code",
      "source": [
        "from sklearn.model_selection import train_test_split\n",
        "\n",
        "# Training set: breast data\n",
        "X_train = breast_df.drop(columns=['label', 'annotation_id', 'image_id', 'cancer_type', 'species'])\n",
        "y_train = breast_df['label']\n",
        "\n",
        "# Test set: multi-organ data\n",
        "X_test = multi_df.drop(columns=['label', 'annotation_id', 'image_id', 'cancer_type', 'species'])\n",
        "y_test = multi_df['label']\n",
        "\n",
        "# Check sizes\n",
        "print(f\"Train size (Breast): {X_train.shape}\")\n",
        "print(f\"Test size (Multi):  {X_test.shape}\")\n"
      ],
      "metadata": {
        "colab": {
          "base_uri": "https://localhost:8080/"
        },
        "id": "hrDQ7m5OLSQY",
        "outputId": "94c92ba5-c086-438c-84f9-3e831f9d0447"
      },
      "execution_count": 27,
      "outputs": [
        {
          "output_type": "stream",
          "name": "stdout",
          "text": [
            "Train size (Breast): (4435, 20)\n",
            "Test size (Multi):  (16117, 20)\n"
          ]
        }
      ]
    },
    {
      "cell_type": "code",
      "source": [
        "# Create stratification key\n",
        "strat_key_train = y_train  # since breast is one domain, only label"
      ],
      "metadata": {
        "id": "_nuY0QutJQXH"
      },
      "execution_count": 28,
      "outputs": []
    },
    {
      "cell_type": "markdown",
      "source": [
        "#Random Forest"
      ],
      "metadata": {
        "id": "gLzM6WLMUxbL"
      }
    },
    {
      "cell_type": "code",
      "source": [
        "from sklearn.ensemble import RandomForestClassifier\n",
        "from sklearn.model_selection import StratifiedKFold\n",
        "from sklearn.preprocessing import StandardScaler\n",
        "from sklearn.metrics import f1_score, classification_report, confusion_matrix\n",
        "import numpy as np\n",
        "\n",
        "param_grid = {\n",
        "    'n_estimators': [100, 200],\n",
        "    'max_depth': [None, 10, 20],\n",
        "    'min_samples_split': [2, 5]\n",
        "}\n",
        "\n",
        "skf = StratifiedKFold(n_splits=5, shuffle=True, random_state=42)\n",
        "\n",
        "best_f1 = 0\n",
        "best_model = None\n",
        "best_params = None\n",
        "\n",
        "for n in param_grid['n_estimators']:\n",
        "    for d in param_grid['max_depth']:\n",
        "        for s in param_grid['min_samples_split']:\n",
        "            fold_scores = []\n",
        "            for train_idx, val_idx in skf.split(X_train, strat_key_train):\n",
        "                X_tr_raw, X_val_raw = X_train.iloc[train_idx], X_train.iloc[val_idx]\n",
        "                y_tr, y_val = y_train.iloc[train_idx], y_train.iloc[val_idx]\n",
        "\n",
        "                scaler = StandardScaler()\n",
        "                X_tr = scaler.fit_transform(X_tr_raw)\n",
        "                X_val = scaler.transform(X_val_raw)\n",
        "\n",
        "                model = RandomForestClassifier(\n",
        "                    n_estimators=n,\n",
        "                    max_depth=d,\n",
        "                    min_samples_split=s,\n",
        "                    random_state=42\n",
        "                )\n",
        "                model.fit(X_tr, y_tr)\n",
        "                y_val_pred = model.predict(X_val)\n",
        "                f1 = f1_score(y_val, y_val_pred)\n",
        "                fold_scores.append(f1)\n",
        "\n",
        "            avg_f1 = np.mean(fold_scores)\n",
        "            print(f\"Random Forest: n={n}, depth={d}, split={s} → Avg F1 = {avg_f1:.4f}\")\n",
        "\n",
        "            if avg_f1 > best_f1:\n",
        "                best_f1 = avg_f1\n",
        "                best_model = model\n",
        "                best_params = (n, d, s)\n",
        "\n",
        "print(\"\\nBest RF Params:\", best_params)\n",
        "print(f\"Best CV F1: {best_f1:.4f}\")\n",
        "\n",
        "# Final test evaluation\n",
        "scaler = StandardScaler()\n",
        "X_train_scaled = scaler.fit_transform(X_train)\n",
        "X_test_scaled = scaler.transform(X_test)\n",
        "\n",
        "y_test_pred = best_model.predict(X_test_scaled)\n",
        "print(\"Random Forest Test Classification Report:\")\n",
        "print(classification_report(y_test, y_test_pred))\n",
        "print(\"Confusion Matrix:\")\n",
        "print(confusion_matrix(y_test, y_test_pred))\n"
      ],
      "metadata": {
        "colab": {
          "base_uri": "https://localhost:8080/"
        },
        "id": "hO3AqKNRP8Cc",
        "outputId": "f162b826-a57c-488b-e8d7-17dcfc9145d6"
      },
      "execution_count": 29,
      "outputs": [
        {
          "output_type": "stream",
          "name": "stdout",
          "text": [
            "Random Forest: n=100, depth=None, split=2 → Avg F1 = 0.3829\n",
            "Random Forest: n=100, depth=None, split=5 → Avg F1 = 0.3808\n",
            "Random Forest: n=100, depth=10, split=2 → Avg F1 = 0.3319\n",
            "Random Forest: n=100, depth=10, split=5 → Avg F1 = 0.3363\n",
            "Random Forest: n=100, depth=20, split=2 → Avg F1 = 0.3898\n",
            "Random Forest: n=100, depth=20, split=5 → Avg F1 = 0.3819\n",
            "Random Forest: n=200, depth=None, split=2 → Avg F1 = 0.3952\n",
            "Random Forest: n=200, depth=None, split=5 → Avg F1 = 0.3792\n",
            "Random Forest: n=200, depth=10, split=2 → Avg F1 = 0.3258\n",
            "Random Forest: n=200, depth=10, split=5 → Avg F1 = 0.3263\n",
            "Random Forest: n=200, depth=20, split=2 → Avg F1 = 0.3819\n",
            "Random Forest: n=200, depth=20, split=5 → Avg F1 = 0.3720\n",
            "\n",
            "Best RF Params: (200, None, 2)\n",
            "Best CV F1: 0.3952\n",
            "Random Forest Test Classification Report:\n",
            "              precision    recall  f1-score   support\n",
            "\n",
            "           0       0.52      0.79      0.63      8337\n",
            "           1       0.50      0.23      0.31      7780\n",
            "\n",
            "    accuracy                           0.52     16117\n",
            "   macro avg       0.51      0.51      0.47     16117\n",
            "weighted avg       0.51      0.52      0.48     16117\n",
            "\n",
            "Confusion Matrix:\n",
            "[[6568 1769]\n",
            " [5999 1781]]\n"
          ]
        }
      ]
    },
    {
      "cell_type": "markdown",
      "source": [
        "# Naive Bayes"
      ],
      "metadata": {
        "id": "HrS2S6p3ZOBb"
      }
    },
    {
      "cell_type": "code",
      "source": [
        "from sklearn.naive_bayes import GaussianNB\n",
        "\n",
        "skf = StratifiedKFold(n_splits=5, shuffle=True, random_state=42)\n",
        "\n",
        "best_f1 = 0\n",
        "best_model = None\n",
        "best_params = None\n",
        "fold_scores = []\n",
        "\n",
        "for train_idx, val_idx in skf.split(X_train, strat_key_train):\n",
        "    X_tr_raw, X_val_raw = X_train.iloc[train_idx], X_train.iloc[val_idx]\n",
        "    y_tr, y_val = y_train.iloc[train_idx], y_train.iloc[val_idx]\n",
        "\n",
        "    scaler = StandardScaler()\n",
        "    X_tr = scaler.fit_transform(X_tr_raw)\n",
        "    X_val = scaler.transform(X_val_raw)\n",
        "\n",
        "    model = GaussianNB()\n",
        "    model.fit(X_tr, y_tr)\n",
        "    y_val_pred = model.predict(X_val)\n",
        "    f1 = f1_score(y_val, y_val_pred)\n",
        "    fold_scores.append(f1)\n",
        "\n",
        "avg_f1 = np.mean(fold_scores)\n",
        "print(f\"\\nNaïve Bayes CV Avg F1: {avg_f1:.4f}\")\n",
        "\n",
        "# Final test eval\n",
        "scaler = StandardScaler()\n",
        "X_train_scaled = scaler.fit_transform(X_train)\n",
        "X_test_scaled = scaler.transform(X_test)\n",
        "\n",
        "model = GaussianNB()\n",
        "model.fit(X_train_scaled, y_train)\n",
        "y_test_pred = model.predict(X_test_scaled)\n",
        "\n",
        "print(\"Naïve Bayes Test Classification Report:\")\n",
        "print(classification_report(y_test, y_test_pred))\n",
        "print(\"Confusion Matrix:\")\n",
        "print(confusion_matrix(y_test, y_test_pred))\n"
      ],
      "metadata": {
        "colab": {
          "base_uri": "https://localhost:8080/"
        },
        "id": "8h5_-PpqZP_N",
        "outputId": "34f7757e-6a49-438b-fdae-18a2e6220be2"
      },
      "execution_count": 30,
      "outputs": [
        {
          "output_type": "stream",
          "name": "stdout",
          "text": [
            "\n",
            "Naïve Bayes CV Avg F1: 0.5021\n",
            "Naïve Bayes Test Classification Report:\n",
            "              precision    recall  f1-score   support\n",
            "\n",
            "           0       0.60      0.24      0.34      8337\n",
            "           1       0.50      0.83      0.63      7780\n",
            "\n",
            "    accuracy                           0.52     16117\n",
            "   macro avg       0.55      0.53      0.48     16117\n",
            "weighted avg       0.55      0.52      0.48     16117\n",
            "\n",
            "Confusion Matrix:\n",
            "[[1979 6358]\n",
            " [1334 6446]]\n"
          ]
        }
      ]
    },
    {
      "cell_type": "markdown",
      "source": [
        "#SVM"
      ],
      "metadata": {
        "id": "hmLZzF-Xf3WZ"
      }
    },
    {
      "cell_type": "code",
      "source": [
        "from sklearn.svm import SVC\n",
        "\n",
        "param_grid = {\n",
        "    'C': [1, 10],\n",
        "    'gamma': ['scale', 0.01, 0.1]\n",
        "}\n",
        "\n",
        "skf = StratifiedKFold(n_splits=5, shuffle=True, random_state=42)\n",
        "\n",
        "best_f1 = 0\n",
        "best_model = None\n",
        "best_params = None\n",
        "\n",
        "for C in param_grid['C']:\n",
        "    for gamma in param_grid['gamma']:\n",
        "        fold_scores = []\n",
        "        for train_idx, val_idx in skf.split(X_train, strat_key_train):\n",
        "            X_tr_raw, X_val_raw = X_train.iloc[train_idx], X_train.iloc[val_idx]\n",
        "            y_tr, y_val = y_train.iloc[train_idx], y_train.iloc[val_idx]\n",
        "\n",
        "            scaler = StandardScaler()\n",
        "            X_tr = scaler.fit_transform(X_tr_raw)\n",
        "            X_val = scaler.transform(X_val_raw)\n",
        "\n",
        "            model = SVC(C=C, kernel='rbf', gamma=gamma, random_state=42)\n",
        "            model.fit(X_tr, y_tr)\n",
        "            y_val_pred = model.predict(X_val)\n",
        "            f1 = f1_score(y_val, y_val_pred)\n",
        "            fold_scores.append(f1)\n",
        "\n",
        "        avg_f1 = np.mean(fold_scores)\n",
        "        print(f\"SVM: C={C}, gamma={gamma} → Avg F1 = {avg_f1:.4f}\")\n",
        "\n",
        "        if avg_f1 > best_f1:\n",
        "            best_f1 = avg_f1\n",
        "            best_model = model\n",
        "            best_params = (C, gamma)\n",
        "\n",
        "print(\"\\nBest SVM Params:\", best_params)\n",
        "print(f\"Best CV F1: {best_f1:.4f}\")\n",
        "\n",
        "scaler = StandardScaler()\n",
        "X_train_scaled = scaler.fit_transform(X_train)\n",
        "X_test_scaled = scaler.transform(X_test)\n",
        "\n",
        "y_test_pred = best_model.predict(X_test_scaled)\n",
        "print(\"SVM Test Classification Report:\")\n",
        "print(classification_report(y_test, y_test_pred))\n",
        "print(\"Confusion Matrix:\")\n",
        "print(confusion_matrix(y_test, y_test_pred))\n"
      ],
      "metadata": {
        "colab": {
          "base_uri": "https://localhost:8080/"
        },
        "id": "IiBbb8Tjf4vg",
        "outputId": "92eda7c9-9c02-421a-fb2b-bdcb623303d7"
      },
      "execution_count": 31,
      "outputs": [
        {
          "output_type": "stream",
          "name": "stdout",
          "text": [
            "SVM: C=1, gamma=scale → Avg F1 = 0.2971\n",
            "SVM: C=1, gamma=0.01 → Avg F1 = 0.0371\n",
            "SVM: C=1, gamma=0.1 → Avg F1 = 0.3601\n",
            "SVM: C=10, gamma=scale → Avg F1 = 0.4291\n",
            "SVM: C=10, gamma=0.01 → Avg F1 = 0.2703\n",
            "SVM: C=10, gamma=0.1 → Avg F1 = 0.4526\n",
            "\n",
            "Best SVM Params: (10, 0.1)\n",
            "Best CV F1: 0.4526\n",
            "SVM Test Classification Report:\n",
            "              precision    recall  f1-score   support\n",
            "\n",
            "           0       0.52      0.82      0.64      8337\n",
            "           1       0.51      0.19      0.28      7780\n",
            "\n",
            "    accuracy                           0.52     16117\n",
            "   macro avg       0.51      0.51      0.46     16117\n",
            "weighted avg       0.51      0.52      0.47     16117\n",
            "\n",
            "Confusion Matrix:\n",
            "[[6869 1468]\n",
            " [6276 1504]]\n"
          ]
        }
      ]
    },
    {
      "cell_type": "markdown",
      "source": [
        "# Multi Train --> Breast Test"
      ],
      "metadata": {
        "id": "LvFY3x9RUaxO"
      }
    },
    {
      "cell_type": "code",
      "source": [
        "from sklearn.model_selection import StratifiedKFold\n",
        "from sklearn.preprocessing import StandardScaler\n",
        "\n",
        "# Create stratification key for label + cancer type\n",
        "multi_df['strat_key'] = multi_df['label'].astype(str) + '_' + multi_df['cancer_type']\n",
        "\n",
        "# Training set (multi-organ)\n",
        "X_train = multi_df.drop(columns=['label', 'annotation_id', 'image_id', 'cancer_type', 'species', 'strat_key'])\n",
        "y_train = multi_df['label']\n",
        "strat_key_train = multi_df['strat_key']\n",
        "\n",
        "# Test set (breast)\n",
        "X_test = breast_df.drop(columns=['label', 'annotation_id', 'image_id', 'cancer_type', 'species'])\n",
        "y_test = breast_df['label']\n",
        "\n",
        "# Just for confirmation\n",
        "print(\"Multi Train → Breast Test\")\n",
        "print(\"Train (multi):\", X_train.shape)\n",
        "print(\"Test  (breast):\", X_test.shape)\n"
      ],
      "metadata": {
        "colab": {
          "base_uri": "https://localhost:8080/"
        },
        "id": "EAzNKZyYUwMc",
        "outputId": "ffc8043d-000f-4451-bb1b-3f849fde05d2"
      },
      "execution_count": 47,
      "outputs": [
        {
          "output_type": "stream",
          "name": "stdout",
          "text": [
            "Multi Train → Breast Test\n",
            "Train (multi): (16118, 20)\n",
            "Test  (breast): (4435, 20)\n"
          ]
        },
        {
          "output_type": "stream",
          "name": "stderr",
          "text": [
            "<ipython-input-47-760eb55d05ae>:5: SettingWithCopyWarning: \n",
            "A value is trying to be set on a copy of a slice from a DataFrame.\n",
            "Try using .loc[row_indexer,col_indexer] = value instead\n",
            "\n",
            "See the caveats in the documentation: https://pandas.pydata.org/pandas-docs/stable/user_guide/indexing.html#returning-a-view-versus-a-copy\n",
            "  multi_df['strat_key'] = multi_df['label'].astype(str) + '_' + multi_df['cancer_type']\n"
          ]
        }
      ]
    },
    {
      "cell_type": "markdown",
      "source": [
        "# Naive Bayes"
      ],
      "metadata": {
        "id": "toTyWRKFY6FI"
      }
    },
    {
      "cell_type": "code",
      "source": [
        "from sklearn.naive_bayes import GaussianNB\n",
        "\n",
        "skf = StratifiedKFold(n_splits=5, shuffle=True, random_state=42)\n",
        "\n",
        "best_f1 = 0\n",
        "best_model = None\n",
        "best_params = None\n",
        "fold_scores = []\n",
        "\n",
        "for train_idx, val_idx in skf.split(X_train, strat_key_train):\n",
        "    X_tr_raw, X_val_raw = X_train.iloc[train_idx], X_train.iloc[val_idx]\n",
        "    y_tr, y_val = y_train.iloc[train_idx], y_train.iloc[val_idx]\n",
        "\n",
        "    scaler = StandardScaler()\n",
        "    X_tr = scaler.fit_transform(X_tr_raw)\n",
        "    X_val = scaler.transform(X_val_raw)\n",
        "\n",
        "    model = GaussianNB()\n",
        "    model.fit(X_tr, y_tr)\n",
        "    y_val_pred = model.predict(X_val)\n",
        "    f1 = f1_score(y_val, y_val_pred)\n",
        "    fold_scores.append(f1)\n",
        "\n",
        "avg_f1 = np.mean(fold_scores)\n",
        "print(f\"\\nNaïve Bayes CV Avg F1: {avg_f1:.4f}\")\n",
        "\n",
        "# Final test eval\n",
        "scaler = StandardScaler()\n",
        "X_train_scaled = scaler.fit_transform(X_train)\n",
        "X_test_scaled = scaler.transform(X_test)\n",
        "\n",
        "model = GaussianNB()\n",
        "model.fit(X_train_scaled, y_train)\n",
        "y_test_pred = model.predict(X_test_scaled)\n",
        "\n",
        "print(\"Naïve Bayes Test Classification Report:\")\n",
        "print(classification_report(y_test, y_test_pred))\n",
        "print(\"Confusion Matrix:\")\n",
        "print(confusion_matrix(y_test, y_test_pred))\n"
      ],
      "metadata": {
        "colab": {
          "base_uri": "https://localhost:8080/"
        },
        "id": "6fBYJBS2YwLz",
        "outputId": "ded5153c-99df-42a4-d86d-ba71d5133767"
      },
      "execution_count": 38,
      "outputs": [
        {
          "output_type": "stream",
          "name": "stdout",
          "text": [
            "\n",
            "Naïve Bayes CV Avg F1: 0.6337\n",
            "Naïve Bayes Test Classification Report:\n",
            "              precision    recall  f1-score   support\n",
            "\n",
            "           0       0.63      0.67      0.65      2714\n",
            "           1       0.43      0.39      0.41      1721\n",
            "\n",
            "    accuracy                           0.56      4435\n",
            "   macro avg       0.53      0.53      0.53      4435\n",
            "weighted avg       0.56      0.56      0.56      4435\n",
            "\n",
            "Confusion Matrix:\n",
            "[[1822  892]\n",
            " [1048  673]]\n"
          ]
        }
      ]
    },
    {
      "cell_type": "markdown",
      "source": [
        "#Random Forest"
      ],
      "metadata": {
        "id": "xBtysW1gVc3q"
      }
    },
    {
      "cell_type": "code",
      "source": [
        "from sklearn.ensemble import RandomForestClassifier\n",
        "from sklearn.model_selection import StratifiedKFold\n",
        "from sklearn.preprocessing import StandardScaler\n",
        "from sklearn.metrics import f1_score, classification_report, confusion_matrix\n",
        "import numpy as np\n",
        "\n",
        "param_grid = {\n",
        "    'n_estimators': [100, 200],\n",
        "    'max_depth': [None, 10, 20],\n",
        "    'min_samples_split': [2, 5]\n",
        "}\n",
        "\n",
        "skf = StratifiedKFold(n_splits=5, shuffle=True, random_state=42)\n",
        "\n",
        "best_f1 = 0\n",
        "best_model = None\n",
        "best_params = None\n",
        "\n",
        "for n in param_grid['n_estimators']:\n",
        "    for d in param_grid['max_depth']:\n",
        "        for s in param_grid['min_samples_split']:\n",
        "            fold_scores = []\n",
        "            for train_idx, val_idx in skf.split(X_train, strat_key_train):\n",
        "                X_tr_raw, X_val_raw = X_train.iloc[train_idx], X_train.iloc[val_idx]\n",
        "                y_tr, y_val = y_train.iloc[train_idx], y_train.iloc[val_idx]\n",
        "\n",
        "                scaler = StandardScaler()\n",
        "                X_tr = scaler.fit_transform(X_tr_raw)\n",
        "                X_val = scaler.transform(X_val_raw)\n",
        "\n",
        "                model = RandomForestClassifier(\n",
        "                    n_estimators=n,\n",
        "                    max_depth=d,\n",
        "                    min_samples_split=s,\n",
        "                    random_state=42\n",
        "                )\n",
        "                model.fit(X_tr, y_tr)\n",
        "                y_val_pred = model.predict(X_val)\n",
        "                f1 = f1_score(y_val, y_val_pred)\n",
        "                fold_scores.append(f1)\n",
        "\n",
        "            avg_f1 = np.mean(fold_scores)\n",
        "            print(f\"Random Forest: n={n}, depth={d}, split={s} → Avg F1 = {avg_f1:.4f}\")\n",
        "\n",
        "            if avg_f1 > best_f1:\n",
        "                best_f1 = avg_f1\n",
        "                best_model = model\n",
        "                best_params = (n, d, s)\n",
        "\n",
        "print(\"\\nBest RF Params:\", best_params)\n",
        "print(f\"Best CV F1: {best_f1:.4f}\")\n",
        "\n",
        "# Final test evaluation\n",
        "scaler = StandardScaler()\n",
        "X_train_scaled = scaler.fit_transform(X_train)\n",
        "X_test_scaled = scaler.transform(X_test)\n",
        "\n",
        "y_test_pred = best_model.predict(X_test_scaled)\n",
        "print(\"Random Forest Test Classification Report:\")\n",
        "print(classification_report(y_test, y_test_pred))\n",
        "print(\"Confusion Matrix:\")\n",
        "print(confusion_matrix(y_test, y_test_pred))\n"
      ],
      "metadata": {
        "colab": {
          "base_uri": "https://localhost:8080/"
        },
        "id": "Dv5UERxHVfGM",
        "outputId": "386ff723-1fa3-4321-fc50-9a6b239981de"
      },
      "execution_count": 39,
      "outputs": [
        {
          "output_type": "stream",
          "name": "stdout",
          "text": [
            "Random Forest: n=100, depth=None, split=2 → Avg F1 = 0.5777\n",
            "Random Forest: n=100, depth=None, split=5 → Avg F1 = 0.5821\n",
            "Random Forest: n=100, depth=10, split=2 → Avg F1 = 0.5824\n",
            "Random Forest: n=100, depth=10, split=5 → Avg F1 = 0.5854\n",
            "Random Forest: n=100, depth=20, split=2 → Avg F1 = 0.5847\n",
            "Random Forest: n=100, depth=20, split=5 → Avg F1 = 0.5886\n",
            "Random Forest: n=200, depth=None, split=2 → Avg F1 = 0.5848\n",
            "Random Forest: n=200, depth=None, split=5 → Avg F1 = 0.5864\n",
            "Random Forest: n=200, depth=10, split=2 → Avg F1 = 0.5846\n",
            "Random Forest: n=200, depth=10, split=5 → Avg F1 = 0.5912\n",
            "Random Forest: n=200, depth=20, split=2 → Avg F1 = 0.5887\n",
            "Random Forest: n=200, depth=20, split=5 → Avg F1 = 0.5893\n",
            "\n",
            "Best RF Params: (200, 10, 5)\n",
            "Best CV F1: 0.5912\n",
            "Random Forest Test Classification Report:\n",
            "              precision    recall  f1-score   support\n",
            "\n",
            "           0       0.62      0.86      0.72      2714\n",
            "           1       0.41      0.15      0.22      1721\n",
            "\n",
            "    accuracy                           0.59      4435\n",
            "   macro avg       0.51      0.51      0.47      4435\n",
            "weighted avg       0.54      0.59      0.53      4435\n",
            "\n",
            "Confusion Matrix:\n",
            "[[2344  370]\n",
            " [1463  258]]\n"
          ]
        }
      ]
    },
    {
      "cell_type": "markdown",
      "source": [
        "# SVM"
      ],
      "metadata": {
        "id": "6wVQx-kvik4i"
      }
    },
    {
      "cell_type": "code",
      "source": [
        "from sklearn.svm import SVC\n",
        "\n",
        "param_grid = {\n",
        "    'C': [1, 10],\n",
        "    'gamma': ['scale', 0.01, 0.1]\n",
        "}\n",
        "\n",
        "skf = StratifiedKFold(n_splits=5, shuffle=True, random_state=42)\n",
        "\n",
        "best_f1 = 0\n",
        "best_model = None\n",
        "best_params = None\n",
        "\n",
        "for C in param_grid['C']:\n",
        "    for gamma in param_grid['gamma']:\n",
        "        fold_scores = []\n",
        "        for train_idx, val_idx in skf.split(X_train, strat_key_train):\n",
        "            X_tr_raw, X_val_raw = X_train.iloc[train_idx], X_train.iloc[val_idx]\n",
        "            y_tr, y_val = y_train.iloc[train_idx], y_train.iloc[val_idx]\n",
        "\n",
        "            scaler = StandardScaler()\n",
        "            X_tr = scaler.fit_transform(X_tr_raw)\n",
        "            X_val = scaler.transform(X_val_raw)\n",
        "\n",
        "            model = SVC(C=C, kernel='rbf', gamma=gamma, random_state=42)\n",
        "            model.fit(X_tr, y_tr)\n",
        "            y_val_pred = model.predict(X_val)\n",
        "            f1 = f1_score(y_val, y_val_pred)\n",
        "            fold_scores.append(f1)\n",
        "\n",
        "        avg_f1 = np.mean(fold_scores)\n",
        "        print(f\"SVM: C={C}, gamma={gamma} → Avg F1 = {avg_f1:.4f}\")\n",
        "\n",
        "        if avg_f1 > best_f1:\n",
        "            best_f1 = avg_f1\n",
        "            best_model = model\n",
        "            best_params = (C, gamma)\n",
        "\n",
        "print(\"\\nBest SVM Params:\", best_params)\n",
        "print(f\"Best CV F1: {best_f1:.4f}\")\n",
        "\n",
        "scaler = StandardScaler()\n",
        "X_train_scaled = scaler.fit_transform(X_train)\n",
        "X_test_scaled = scaler.transform(X_test)\n",
        "\n",
        "y_test_pred = best_model.predict(X_test_scaled)\n",
        "print(\"SVM Test Classification Report:\")\n",
        "print(classification_report(y_test, y_test_pred))\n",
        "print(\"Confusion Matrix:\")\n",
        "print(confusion_matrix(y_test, y_test_pred))\n"
      ],
      "metadata": {
        "colab": {
          "base_uri": "https://localhost:8080/"
        },
        "id": "u62IfnHAVkFf",
        "outputId": "98160a6d-656c-4176-ba75-c65ceebd3c0e"
      },
      "execution_count": 40,
      "outputs": [
        {
          "output_type": "stream",
          "name": "stdout",
          "text": [
            "SVM: C=1, gamma=scale → Avg F1 = 0.5866\n",
            "SVM: C=1, gamma=0.01 → Avg F1 = 0.5410\n",
            "SVM: C=1, gamma=0.1 → Avg F1 = 0.5913\n",
            "SVM: C=10, gamma=scale → Avg F1 = 0.5988\n",
            "SVM: C=10, gamma=0.01 → Avg F1 = 0.5956\n",
            "SVM: C=10, gamma=0.1 → Avg F1 = 0.6001\n",
            "\n",
            "Best SVM Params: (10, 0.1)\n",
            "Best CV F1: 0.6001\n",
            "SVM Test Classification Report:\n",
            "              precision    recall  f1-score   support\n",
            "\n",
            "           0       0.62      0.73      0.67      2714\n",
            "           1       0.41      0.29      0.34      1721\n",
            "\n",
            "    accuracy                           0.56      4435\n",
            "   macro avg       0.51      0.51      0.51      4435\n",
            "weighted avg       0.54      0.56      0.54      4435\n",
            "\n",
            "Confusion Matrix:\n",
            "[[1987  727]\n",
            " [1219  502]]\n"
          ]
        }
      ]
    },
    {
      "cell_type": "markdown",
      "source": [
        "# Multi Train --> Multi Test"
      ],
      "metadata": {
        "id": "NjBsquB-nh9N"
      }
    },
    {
      "cell_type": "code",
      "source": [
        "from sklearn.model_selection import train_test_split\n",
        "from sklearn.preprocessing import StandardScaler\n",
        "#use all data\n",
        "multi_df = df.copy()\n",
        "\n",
        "multi_df.loc[:, 'strat_key'] = multi_df['label'].astype(str) + '_' + multi_df['cancer_type']\n",
        "\n",
        "X = multi_df.drop(columns=['label', 'annotation_id', 'image_id', 'cancer_type', 'species', 'strat_key'])\n",
        "y = multi_df['label']\n",
        "strat = multi_df['strat_key']\n",
        "\n",
        "#Split test set (15%)\n",
        "X_train, X_test, y_train, y_test, strat_key_train, strat_key_test = train_test_split(\n",
        "    X, y, strat, test_size=0.15, stratify=strat, random_state=42\n",
        ")\n",
        "\n",
        "#Final test scaling (fold-wise scaling will happen during CV)\n",
        "scaler = StandardScaler()\n",
        "X_train_scaled = scaler.fit_transform(X_train)  # used only for final model\n",
        "X_test_scaled = scaler.transform(X_test)\n",
        "\n",
        "#Confirm split\n",
        "print(\"Multi → Multi setup (no validation)\")\n",
        "print(\"Train set size: \", X_train.shape[0])\n",
        "print(\"Test set size:  \", X_test.shape[0])\n",
        "\n",
        "print(\"\\nTrain cancer type distribution:\")\n",
        "print(multi_df.loc[X_train.index, 'cancer_type'].value_counts())\n",
        "\n",
        "print(\"\\nTest cancer type distribution:\")\n",
        "print(multi_df.loc[X_test.index, 'cancer_type'].value_counts())\n"
      ],
      "metadata": {
        "colab": {
          "base_uri": "https://localhost:8080/"
        },
        "id": "GrlD8rXDoDW6",
        "outputId": "4f41974e-d8da-4622-a1b3-33f4347cc0ef"
      },
      "execution_count": 49,
      "outputs": [
        {
          "output_type": "stream",
          "name": "stdout",
          "text": [
            "Multi → Multi setup (no validation)\n",
            "Train set size:  17469\n",
            "Test set size:   3083\n",
            "\n",
            "Train cancer type distribution:\n",
            "cancer_type\n",
            "lymphoma                6983\n",
            "breast_cancer           3770\n",
            "mast_cell_tumor         3139\n",
            "neuroendocrine_tumor    2041\n",
            "lung_carcinoma          1536\n",
            "Name: count, dtype: int64\n",
            "\n",
            "Test cancer type distribution:\n",
            "cancer_type\n",
            "lymphoma                1233\n",
            "breast_cancer            665\n",
            "mast_cell_tumor          554\n",
            "neuroendocrine_tumor     360\n",
            "lung_carcinoma           271\n",
            "Name: count, dtype: int64\n"
          ]
        }
      ]
    },
    {
      "cell_type": "markdown",
      "source": [
        "# Random Forest"
      ],
      "metadata": {
        "id": "w5zaPD9Ylzp6"
      }
    },
    {
      "cell_type": "code",
      "source": [
        "from sklearn.ensemble import RandomForestClassifier\n",
        "from sklearn.model_selection import StratifiedKFold\n",
        "from sklearn.preprocessing import StandardScaler\n",
        "from sklearn.metrics import f1_score, classification_report, confusion_matrix\n",
        "import numpy as np\n",
        "\n",
        "param_grid = {\n",
        "    'n_estimators': [100, 200],\n",
        "    'max_depth': [None, 10, 20],\n",
        "    'min_samples_split': [2, 5]\n",
        "}\n",
        "\n",
        "skf = StratifiedKFold(n_splits=5, shuffle=True, random_state=42)\n",
        "\n",
        "best_f1 = 0\n",
        "best_model = None\n",
        "best_params = None\n",
        "\n",
        "for n in param_grid['n_estimators']:\n",
        "    for d in param_grid['max_depth']:\n",
        "        for s in param_grid['min_samples_split']:\n",
        "            fold_scores = []\n",
        "            for train_idx, val_idx in skf.split(X_train, strat_key_train):\n",
        "                X_tr_raw, X_val_raw = X_train.iloc[train_idx], X_train.iloc[val_idx]\n",
        "                y_tr, y_val = y_train.iloc[train_idx], y_train.iloc[val_idx]\n",
        "\n",
        "                scaler = StandardScaler()\n",
        "                X_tr = scaler.fit_transform(X_tr_raw)\n",
        "                X_val = scaler.transform(X_val_raw)\n",
        "\n",
        "                model = RandomForestClassifier(\n",
        "                    n_estimators=n,\n",
        "                    max_depth=d,\n",
        "                    min_samples_split=s,\n",
        "                    random_state=42\n",
        "                )\n",
        "                model.fit(X_tr, y_tr)\n",
        "                y_val_pred = model.predict(X_val)\n",
        "                f1 = f1_score(y_val, y_val_pred)\n",
        "                fold_scores.append(f1)\n",
        "\n",
        "            avg_f1 = np.mean(fold_scores)\n",
        "            print(f\"Random Forest: n={n}, depth={d}, split={s} → Avg F1 = {avg_f1:.4f}\")\n",
        "\n",
        "            if avg_f1 > best_f1:\n",
        "                best_f1 = avg_f1\n",
        "                best_model = model\n",
        "                best_params = (n, d, s)\n",
        "\n",
        "print(\"\\nBest RF Params:\", best_params)\n",
        "print(f\"Best CV F1: {best_f1:.4f}\")\n",
        "\n",
        "# Final test evaluation\n",
        "scaler = StandardScaler()\n",
        "X_train_scaled = scaler.fit_transform(X_train)\n",
        "X_test_scaled = scaler.transform(X_test)\n",
        "\n",
        "y_test_pred = best_model.predict(X_test_scaled)\n",
        "print(\"Random Forest Test Classification Report:\")\n",
        "print(classification_report(y_test, y_test_pred))\n",
        "print(\"Confusion Matrix:\")\n",
        "print(confusion_matrix(y_test, y_test_pred))\n"
      ],
      "metadata": {
        "colab": {
          "base_uri": "https://localhost:8080/"
        },
        "id": "vz5tRRG8l2Xh",
        "outputId": "6fc60340-e2fb-4785-f73f-d84ccc46685a"
      },
      "execution_count": 50,
      "outputs": [
        {
          "output_type": "stream",
          "name": "stdout",
          "text": [
            "Random Forest: n=100, depth=None, split=2 → Avg F1 = 0.5334\n",
            "Random Forest: n=100, depth=None, split=5 → Avg F1 = 0.5448\n",
            "Random Forest: n=100, depth=10, split=2 → Avg F1 = 0.5303\n",
            "Random Forest: n=100, depth=10, split=5 → Avg F1 = 0.5280\n",
            "Random Forest: n=100, depth=20, split=2 → Avg F1 = 0.5515\n",
            "Random Forest: n=100, depth=20, split=5 → Avg F1 = 0.5491\n",
            "Random Forest: n=200, depth=None, split=2 → Avg F1 = 0.5336\n",
            "Random Forest: n=200, depth=None, split=5 → Avg F1 = 0.5483\n",
            "Random Forest: n=200, depth=10, split=2 → Avg F1 = 0.5285\n",
            "Random Forest: n=200, depth=10, split=5 → Avg F1 = 0.5275\n",
            "Random Forest: n=200, depth=20, split=2 → Avg F1 = 0.5500\n",
            "Random Forest: n=200, depth=20, split=5 → Avg F1 = 0.5498\n",
            "\n",
            "Best RF Params: (100, 20, 2)\n",
            "Best CV F1: 0.5515\n",
            "Random Forest Test Classification Report:\n",
            "              precision    recall  f1-score   support\n",
            "\n",
            "           0       0.62      0.66      0.64      1658\n",
            "           1       0.57      0.52      0.55      1425\n",
            "\n",
            "    accuracy                           0.60      3083\n",
            "   macro avg       0.59      0.59      0.59      3083\n",
            "weighted avg       0.60      0.60      0.60      3083\n",
            "\n",
            "Confusion Matrix:\n",
            "[[1102  556]\n",
            " [ 682  743]]\n"
          ]
        }
      ]
    },
    {
      "cell_type": "markdown",
      "source": [
        "# Naive Bayes"
      ],
      "metadata": {
        "id": "akZUIrFWl3xH"
      }
    },
    {
      "cell_type": "code",
      "source": [
        "from sklearn.naive_bayes import GaussianNB\n",
        "\n",
        "skf = StratifiedKFold(n_splits=5, shuffle=True, random_state=42)\n",
        "\n",
        "best_f1 = 0\n",
        "best_model = None\n",
        "best_params = None\n",
        "fold_scores = []\n",
        "\n",
        "for train_idx, val_idx in skf.split(X_train, strat_key_train):\n",
        "    X_tr_raw, X_val_raw = X_train.iloc[train_idx], X_train.iloc[val_idx]\n",
        "    y_tr, y_val = y_train.iloc[train_idx], y_train.iloc[val_idx]\n",
        "\n",
        "    scaler = StandardScaler()\n",
        "    X_tr = scaler.fit_transform(X_tr_raw)\n",
        "    X_val = scaler.transform(X_val_raw)\n",
        "\n",
        "    model = GaussianNB()\n",
        "    model.fit(X_tr, y_tr)\n",
        "    y_val_pred = model.predict(X_val)\n",
        "    f1 = f1_score(y_val, y_val_pred)\n",
        "    fold_scores.append(f1)\n",
        "\n",
        "avg_f1 = np.mean(fold_scores)\n",
        "print(f\"\\nNaïve Bayes CV Avg F1: {avg_f1:.4f}\")\n",
        "\n",
        "# Final test eval\n",
        "scaler = StandardScaler()\n",
        "X_train_scaled = scaler.fit_transform(X_train)\n",
        "X_test_scaled = scaler.transform(X_test)\n",
        "\n",
        "model = GaussianNB()\n",
        "model.fit(X_train_scaled, y_train)\n",
        "y_test_pred = model.predict(X_test_scaled)\n",
        "\n",
        "print(\"Naïve Bayes Test Classification Report:\")\n",
        "print(classification_report(y_test, y_test_pred))\n",
        "print(\"Confusion Matrix:\")\n",
        "print(confusion_matrix(y_test, y_test_pred))\n"
      ],
      "metadata": {
        "colab": {
          "base_uri": "https://localhost:8080/"
        },
        "id": "mulQ7c2_l5pQ",
        "outputId": "56ea9c09-c09d-424c-bf26-113aafc50ae5"
      },
      "execution_count": 51,
      "outputs": [
        {
          "output_type": "stream",
          "name": "stdout",
          "text": [
            "\n",
            "Naïve Bayes CV Avg F1: 0.6143\n",
            "Naïve Bayes Test Classification Report:\n",
            "              precision    recall  f1-score   support\n",
            "\n",
            "           0       0.63      0.31      0.42      1658\n",
            "           1       0.49      0.78      0.61      1425\n",
            "\n",
            "    accuracy                           0.53      3083\n",
            "   macro avg       0.56      0.55      0.51      3083\n",
            "weighted avg       0.57      0.53      0.50      3083\n",
            "\n",
            "Confusion Matrix:\n",
            "[[ 521 1137]\n",
            " [ 312 1113]]\n"
          ]
        }
      ]
    },
    {
      "cell_type": "markdown",
      "source": [
        "# SVM"
      ],
      "metadata": {
        "id": "fR7CVv68mCE9"
      }
    },
    {
      "cell_type": "code",
      "source": [
        "from sklearn.svm import SVC\n",
        "\n",
        "param_grid = {\n",
        "    'C': [1, 10],\n",
        "    'gamma': ['scale', 0.01, 0.1]\n",
        "}\n",
        "\n",
        "skf = StratifiedKFold(n_splits=5, shuffle=True, random_state=42)\n",
        "\n",
        "best_f1 = 0\n",
        "best_model = None\n",
        "best_params = None\n",
        "\n",
        "for C in param_grid['C']:\n",
        "    for gamma in param_grid['gamma']:\n",
        "        fold_scores = []\n",
        "        for train_idx, val_idx in skf.split(X_train, strat_key_train):\n",
        "            X_tr_raw, X_val_raw = X_train.iloc[train_idx], X_train.iloc[val_idx]\n",
        "            y_tr, y_val = y_train.iloc[train_idx], y_train.iloc[val_idx]\n",
        "\n",
        "            scaler = StandardScaler()\n",
        "            X_tr = scaler.fit_transform(X_tr_raw)\n",
        "            X_val = scaler.transform(X_val_raw)\n",
        "\n",
        "            model = SVC(C=C, kernel='rbf', gamma=gamma, random_state=42)\n",
        "            model.fit(X_tr, y_tr)\n",
        "            y_val_pred = model.predict(X_val)\n",
        "            f1 = f1_score(y_val, y_val_pred)\n",
        "            fold_scores.append(f1)\n",
        "\n",
        "        avg_f1 = np.mean(fold_scores)\n",
        "        print(f\"SVM: C={C}, gamma={gamma} → Avg F1 = {avg_f1:.4f}\")\n",
        "\n",
        "        if avg_f1 > best_f1:\n",
        "            best_f1 = avg_f1\n",
        "            best_model = model\n",
        "            best_params = (C, gamma)\n",
        "\n",
        "print(\"\\nBest SVM Params:\", best_params)\n",
        "print(f\"Best CV F1: {best_f1:.4f}\")\n",
        "\n",
        "scaler = StandardScaler()\n",
        "X_train_scaled = scaler.fit_transform(X_train)\n",
        "X_test_scaled = scaler.transform(X_test)\n",
        "\n",
        "y_test_pred = best_model.predict(X_test_scaled)\n",
        "print(\"SVM Test Classification Report:\")\n",
        "print(classification_report(y_test, y_test_pred))\n",
        "print(\"Confusion Matrix:\")\n",
        "print(confusion_matrix(y_test, y_test_pred))\n"
      ],
      "metadata": {
        "colab": {
          "base_uri": "https://localhost:8080/"
        },
        "id": "K-M8BAe5mFBP",
        "outputId": "bedb8fec-7976-4837-e327-189463f99634"
      },
      "execution_count": 52,
      "outputs": [
        {
          "output_type": "stream",
          "name": "stdout",
          "text": [
            "SVM: C=1, gamma=scale → Avg F1 = 0.5257\n",
            "SVM: C=1, gamma=0.01 → Avg F1 = 0.4695\n",
            "SVM: C=1, gamma=0.1 → Avg F1 = 0.5442\n",
            "SVM: C=10, gamma=scale → Avg F1 = 0.5639\n",
            "SVM: C=10, gamma=0.01 → Avg F1 = 0.5350\n",
            "SVM: C=10, gamma=0.1 → Avg F1 = 0.5669\n",
            "\n",
            "Best SVM Params: (10, 0.1)\n",
            "Best CV F1: 0.5669\n",
            "SVM Test Classification Report:\n",
            "              precision    recall  f1-score   support\n",
            "\n",
            "           0       0.62      0.60      0.61      1658\n",
            "           1       0.55      0.57      0.56      1425\n",
            "\n",
            "    accuracy                           0.59      3083\n",
            "   macro avg       0.59      0.59      0.59      3083\n",
            "weighted avg       0.59      0.59      0.59      3083\n",
            "\n",
            "Confusion Matrix:\n",
            "[[995 663]\n",
            " [606 819]]\n"
          ]
        }
      ]
    },
    {
      "cell_type": "markdown",
      "source": [
        "#Visualization"
      ],
      "metadata": {
        "id": "gCHsgAsFsmvi"
      }
    },
    {
      "cell_type": "code",
      "source": [
        "import seaborn as sns\n",
        "import matplotlib.pyplot as plt\n",
        "import pandas as pd\n",
        "\n",
        "data = {\n",
        "    'Setting': [\n",
        "        'Breast → Breast', 'Breast → Multi',\n",
        "        'Multi → Breast', 'Multi → Multi'\n",
        "    ] * 3,\n",
        "    'Classifier': ['Random Forest']*4 + ['Naive Bayes']*4 + ['SVM']*4,\n",
        "    'F1': [\n",
        "        0.42, 0.31, 0.22, 0.55,  # Random Forest\n",
        "        0.53, 0.63, 0.41, 0.61,  # Naive Bayes\n",
        "        0.49, 0.28, 0.34, 0.56   # SVM\n",
        "    ]\n",
        "}\n",
        "\n",
        "df = pd.DataFrame(data)\n",
        "\n",
        "plt.figure(figsize=(10, 6))\n",
        "sns.barplot(data=df, x='Setting', y='F1', hue='Classifier')\n",
        "plt.title(\"F1 Score Across Domain Splits and Classifiers\")\n",
        "plt.ylabel(\"F1 Score (Mitotic)\")\n",
        "plt.xticks(rotation=15)\n",
        "plt.tight_layout()\n",
        "plt.show()\n"
      ],
      "metadata": {
        "colab": {
          "base_uri": "https://localhost:8080/",
          "height": 607
        },
        "id": "KrxYsI_bso_9",
        "outputId": "f53bd4e9-7a1b-47e8-b183-e7307ec37d56"
      },
      "execution_count": 1,
      "outputs": [
        {
          "output_type": "display_data",
          "data": {
            "text/plain": [
              "<Figure size 1000x600 with 1 Axes>"
            ],
            "image/png": "[encoded data removed]"
          },
          "metadata": {}
        }
      ]
    },
    {
      "cell_type": "code",
      "source": [
        "import matplotlib.pyplot as plt\n",
        "import seaborn as sns\n",
        "import numpy as np\n",
        "\n",
        "# Confusion matrix\n",
        "cm = np.array([[1102  ,556],\n",
        " [ 682  ,743]])\n",
        "\n",
        "# Class labels\n",
        "labels = ['Non-Mitotic', 'Mitotic']\n",
        "\n",
        "plt.figure(figsize=(6, 5))\n",
        "sns.heatmap(cm, annot=True, fmt='d', cmap='Blues', xticklabels=labels, yticklabels=labels)\n",
        "plt.xlabel('Predicted Label')\n",
        "plt.ylabel('True Label')\n",
        "plt.title('Confusion Matrix (Random Forest)')\n",
        "plt.tight_layout()\n",
        "plt.show()\n"
      ],
      "metadata": {
        "colab": {
          "base_uri": "https://localhost:8080/",
          "height": 507
        },
        "id": "MZUgF8Zbl3YW",
        "outputId": "05070ce1-dfa7-46c8-ff37-1e64951f0313"
      },
      "execution_count": 10,
      "outputs": [
        {
          "output_type": "display_data",
          "data": {
            "text/plain": [
              "<Figure size 600x500 with 2 Axes>"
            ],
            "image/png": "[encoded data removed]"
          },
          "metadata": {}
        }
      ]
    }
  ]
}